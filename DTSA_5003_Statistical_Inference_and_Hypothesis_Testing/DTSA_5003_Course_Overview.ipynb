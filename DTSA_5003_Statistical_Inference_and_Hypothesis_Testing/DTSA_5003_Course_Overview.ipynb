{
 "cells": [
  {
   "cell_type": "markdown",
   "metadata": {},
   "source": [
    "# DTSA 5003: Statistical Inference and Hypothesis Testing in Data Science Applications\n",
    "\n",
    "## Course Overview and Quick Reference Guide\n",
    "\n",
    "This notebook serves as a comprehensive overview and quick reference guide for the key concepts, techniques, and implementations covered in this course.\n",
    "\n",
    "### Course Objectives\n",
    "- Understanding hypothesis testing principles\n",
    "- Implementing various statistical tests\n",
    "- Analyzing test results\n",
    "- Applying hypothesis testing in data science"
   ]
  },
  {
   "cell_type": "code",
   "execution_count": null,
   "metadata": {},
   "source": [
    "# Import common libraries\n",
    "import numpy as np\n",
    "import pandas as pd\n",
    "import scipy.stats as stats\n",
    "import matplotlib.pyplot as plt\n",
    "import seaborn as sns\n",
    "from typing import Tuple, Dict, Optional\n",
    "\n",
    "# Display settings\n",
    "%matplotlib inline\n",
    "plt.style.use('seaborn')\n",
    "np.random.seed(42)"
   ]
  },
  {
   "cell_type": "markdown",
   "metadata": {},
   "source": [
    "## Week 1: Introduction to Hypothesis Testing\n",
    "\n",
    "### Key Concepts\n",
    "- \n",
    "\n",
    "### Important Terms\n",
    "- \n",
    "\n",
    "### Code Examples"
   ]
  },
  {
   "cell_type": "code",
   "execution_count": null,
   "metadata": {},
   "source": [
    "def one_sample_ttest(data: np.ndarray, mu0: float, alpha: float = 0.05) -> Dict:\n",
    "    \"\"\"Perform one-sample t-test\"\"\"\n",
    "    t_stat, p_value = stats.ttest_1samp(data, mu0)\n",
    "    return {\n",
    "        't_statistic': t_stat,\n",
    "        'p_value': p_value,\n",
    "        'reject_null': p_value < alpha\n",
    "    }"
   ]
  },
  {
   "cell_type": "markdown",
   "metadata": {},
   "source": [
    "## Week 2: Z-tests and T-tests\n",
    "\n",
    "### Key Concepts\n",
    "- \n",
    "\n",
    "### Important Tests\n",
    "- \n",
    "\n",
    "### Code Examples"
   ]
  },
  {
   "cell_type": "code",
   "execution_count": null,
   "metadata": {},
   "source": [
    "def two_sample_ttest(group1: np.ndarray, group2: np.ndarray, alpha: float = 0.05) -> Dict:\n",
    "    \"\"\"Perform two-sample t-test\"\"\"\n",
    "    t_stat, p_value = stats.ttest_ind(group1, group2)\n",
    "    return {\n",
    "        't_statistic': t_stat,\n",
    "        'p_value': p_value,\n",
    "        'reject_null': p_value < alpha\n",
    "    }"
   ]
  },
  {
   "cell_type": "markdown",
   "metadata": {},
   "source": [
    "## Week 3: ANOVA and F-tests\n",
    "\n",
    "### Key Concepts\n",
    "- \n",
    "\n",
    "### Important Tests\n",
    "- \n",
    "\n",
    "### Code Examples"
   ]
  },
  {
   "cell_type": "code",
   "execution_count": null,
   "metadata": {},
   "source": [
    "def one_way_anova(*groups: np.ndarray, alpha: float = 0.05) -> Dict:\n",
    "    \"\"\"Perform one-way ANOVA\"\"\"\n",
    "    f_stat, p_value = stats.f_oneway(*groups)\n",
    "    return {\n",
    "        'f_statistic': f_stat,\n",
    "        'p_value': p_value,\n",
    "        'reject_null': p_value < alpha\n",
    "    }"
   ]
  },
  {
   "cell_type": "markdown",
   "metadata": {},
   "source": [
    "## Week 4: Chi-Square Tests\n",
    "\n",
    "### Key Concepts\n",
    "- \n",
    "\n",
    "### Important Tests\n",
    "- \n",
    "\n",
    "### Code Examples"
   ]
  },
  {
   "cell_type": "code",
   "execution_count": null,
   "metadata": {},
   "source": [
    "def chi_square_test(observed: np.ndarray, expected: Optional[np.ndarray] = None, alpha: float = 0.05) -> Dict:\n",
    "    \"\"\"Perform chi-square test\"\"\"\n",
    "    if expected is None:\n",
    "        chi2, p_value = stats.chisquare(observed)\n",
    "    else:\n",
    "        chi2, p_value = stats.chisquare(observed, expected)\n",
    "        \n",
    "    return {\n",
    "        'chi2_statistic': chi2,\n",
    "        'p_value': p_value,\n",
    "        'reject_null': p_value < alpha\n",
    "    }"
   ]
  },
  {
   "cell_type": "markdown",
   "metadata": {},
   "source": [
    "## Week 5: Non-parametric Tests\n",
    "\n",
    "### Key Concepts\n",
    "- \n",
    "\n",
    "### Important Tests\n",
    "- \n",
    "\n",
    "### Code Examples"
   ]
  },
  {
   "cell_type": "code",
   "execution_count": null,
   "metadata": {},
   "source": [
    "def mann_whitney_test(group1: np.ndarray, group2: np.ndarray, alpha: float = 0.05) -> Dict:\n",
    "    \"\"\"Perform Mann-Whitney U test\"\"\"\n",
    "    stat, p_value = stats.mannwhitneyu(group1, group2)\n",
    "    return {\n",
    "        'statistic': stat,\n",
    "        'p_value': p_value,\n",
    "        'reject_null': p_value < alpha\n",
    "    }"
   ]
  },
  {
   "cell_type": "markdown",
   "metadata": {},
   "source": [
    "## Week 6: Multiple Testing\n",
    "\n",
    "### Key Concepts\n",
    "- \n",
    "\n",
    "### Important Methods\n",
    "- \n",
    "\n",
    "### Code Examples"
   ]
  },
  {
   "cell_type": "code",
   "execution_count": null,
   "metadata": {},
   "source": [
    "def bonferroni_correction(p_values: np.ndarray, alpha: float = 0.05) -> np.ndarray:\n",
    "    \"\"\"Apply Bonferroni correction for multiple testing\"\"\"\n",
    "    n_tests = len(p_values)\n",
    "    return p_values < (alpha / n_tests)\n",
    "\n",
    "def benjamini_hochberg(p_values: np.ndarray, alpha: float = 0.05) -> np.ndarray:\n",
    "    \"\"\"Apply Benjamini-Hochberg procedure\"\"\"\n",
    "    n_tests = len(p_values)\n",
    "    sorted_indices = np.argsort(p_values)\n",
    "    sorted_p = p_values[sorted_indices]\n",
    "    \n",
    "    threshold = np.arange(1, n_tests + 1) * alpha / n_tests\n",
    "    reject = sorted_p <= threshold\n",
    "    \n",
    "    result = np.zeros_like(p_values, dtype=bool)\n",
    "    result[sorted_indices] = reject\n",
    "    return result"
   ]
  },
  {
   "cell_type": "markdown",
   "metadata": {},
   "source": [
    "## Week 7: Power Analysis\n",
    "\n",
    "### Key Concepts\n",
    "- \n",
    "\n",
    "### Important Methods\n",
    "- \n",
    "\n",
    "### Code Examples"
   ]
  },
  {
   "cell_type": "code",
   "execution_count": null,
   "metadata": {},
   "source": [
    "def power_analysis_ttest(effect_size: float, n: int, alpha: float = 0.05) -> float:\n",
    "    \"\"\"Calculate power for one-sample t-test\"\"\"\n",
    "    from statsmodels.stats.power import TTestPower\n",
    "    power_analysis = TTestPower()\n",
    "    return power_analysis.power(effect_size=effect_size, nobs=n, alpha=alpha)"
   ]
  },
  {
   "cell_type": "markdown",
   "metadata": {},
   "source": [
    "## Week 8: Advanced Topics in Hypothesis Testing\n",
    "\n",
    "### Key Concepts\n",
    "- \n",
    "\n",
    "### Important Methods\n",
    "- \n",
    "\n",
    "### Code Examples"
   ]
  },
  {
   "cell_type": "code",
   "execution_count": null,
   "metadata": {},
   "source": [
    "def permutation_test(group1: np.ndarray, group2: np.ndarray, n_permutations: int = 1000, alpha: float = 0.05) -> Dict:\n",
    "    \"\"\"Perform permutation test\"\"\"\n",
    "    observed_diff = np.mean(group1) - np.mean(group2)\n",
    "    combined = np.concatenate([group1, group2])\n",
    "    n1 = len(group1)\n",
    "    \n",
    "    perm_diffs = []\n",
    "    for _ in range(n_permutations):\n",
    "        np.random.shuffle(combined)\n",
    "        perm_diff = np.mean(combined[:n1]) - np.mean(combined[n1:])\n",
    "        perm_diffs.append(perm_diff)\n",
    "        \n",
    "    p_value = np.mean(np.abs(perm_diffs) >= np.abs(observed_diff))\n",
    "    \n",
    "    return {\n",
    "        'observed_difference': observed_diff,\n",
    "        'p_value': p_value,\n",
    "        'reject_null': p_value < alpha\n",
    "    }"
   ]
  },
  {
   "cell_type": "markdown",
   "metadata": {},
   "source": [
    "## Additional Resources and References\n",
    "\n",
    "### Useful Libraries\n",
    "- SciPy: Statistical tests\n",
    "- StatsModels: Advanced statistical analysis\n",
    "- Scikit-learn: Machine learning metrics\n",
    "- Pingouin: Statistical testing\n",
    "\n",
    "### External Links\n",
    "- Course materials\n",
    "- Statistical testing resources\n",
    "- Practice problems\n",
    "\n",
    "### Personal Notes\n",
    "- Key formulas\n",
    "- Test selection guide\n",
    "- Common pitfalls"
   ]
  }
 ],
 "metadata": {
  "kernelspec": {
   "display_name": "Python 3",
   "language": "python",
   "name": "python3"
  },
  "language_info": {
   "codemirror_mode": {
    "name": "ipython",
    "version": 3
   },
   "file_extension": ".py",
   "mimetype": "text/x-python",
   "name": "python",
   "nbconvert_exporter": "python",
   "pygments_lexer": "ipython3",
   "version": "3.8.0"
  }
 },
 "nbformat": 4,
 "nbformat_minor": 4
}
