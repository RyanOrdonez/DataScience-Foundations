{
 "cells": [
  {
   "cell_type": "markdown",
   "metadata": {},
   "source": [
    "# DTSA 5001: Probability Theory: Foundation for Data Science\n",
    "\n",
    "## Course Overview and Quick Reference Guide\n",
    "\n",
    "This notebook serves as a comprehensive overview and quick reference guide for the key concepts, techniques, and implementations covered in this course.\n",
    "\n",
    "### Course Objectives\n",
    "- Understanding fundamental probability concepts\n",
    "- Applying probability theory to data science problems\n",
    "- Working with probability distributions\n",
    "- Implementing probabilistic models"
   ]
  },
  {
   "cell_type": "code",
   "execution_count": null,
   "metadata": {},
   "source": [
    "# Import common libraries\n",
    "import numpy as np\n",
    "import pandas as pd\n",
    "import scipy.stats as stats\n",
    "import matplotlib.pyplot as plt\n",
    "import seaborn as sns\n",
    "\n",
    "# Display settings\n",
    "%matplotlib inline\n",
    "plt.style.use('seaborn')\n",
    "np.random.seed(42)"
   ]
  },
  {
   "cell_type": "markdown",
   "metadata": {},
   "source": [
    "## Week 1: Introduction to Probability\n",
    "\n",
    "### Key Concepts\n",
    "- \n",
    "\n",
    "### Important Terms\n",
    "- \n",
    "\n",
    "### Code Examples"
   ]
  },
  {
   "cell_type": "code",
   "execution_count": null,
   "metadata": {},
   "source": [
    "def calculate_probability(favorable_outcomes: int, total_outcomes: int) -> float:\n",
    "    \"\"\"Calculate basic probability\"\"\"\n",
    "    return favorable_outcomes / total_outcomes\n",
    "\n",
    "def simulate_coin_flips(n: int) -> dict:\n",
    "    \"\"\"Simulate n coin flips and return probabilities\"\"\"\n",
    "    flips = np.random.choice(['H', 'T'], size=n)\n",
    "    return {\n",
    "        'heads': np.mean(flips == 'H'),\n",
    "        'tails': np.mean(flips == 'T')\n",
    "    }"
   ]
  },
  {
   "cell_type": "markdown",
   "metadata": {},
   "source": [
    "## Week 2: Discrete Probability Distributions\n",
    "\n",
    "### Key Concepts\n",
    "- \n",
    "\n",
    "### Important Distributions\n",
    "- \n",
    "\n",
    "### Code Examples"
   ]
  },
  {
   "cell_type": "code",
   "execution_count": null,
   "metadata": {},
   "source": [
    "def plot_binomial_distribution(n: int, p: float):\n",
    "    \"\"\"Plot binomial distribution\"\"\"\n",
    "    x = np.arange(0, n+1)\n",
    "    pmf = stats.binom.pmf(x, n, p)\n",
    "    \n",
    "    plt.figure(figsize=(10, 6))\n",
    "    plt.bar(x, pmf)\n",
    "    plt.title(f'Binomial Distribution (n={n}, p={p})')\n",
    "    plt.xlabel('Number of Successes')\n",
    "    plt.ylabel('Probability')\n",
    "    plt.show()"
   ]
  },
  {
   "cell_type": "markdown",
   "metadata": {},
   "source": [
    "## Week 3: Continuous Probability Distributions\n",
    "\n",
    "### Key Concepts\n",
    "- \n",
    "\n",
    "### Important Distributions\n",
    "- \n",
    "\n",
    "### Code Examples"
   ]
  },
  {
   "cell_type": "code",
   "execution_count": null,
   "metadata": {},
   "source": [
    "def plot_normal_distribution(mu: float, sigma: float):\n",
    "    \"\"\"Plot normal distribution\"\"\"\n",
    "    x = np.linspace(mu - 4*sigma, mu + 4*sigma, 100)\n",
    "    pdf = stats.norm.pdf(x, mu, sigma)\n",
    "    \n",
    "    plt.figure(figsize=(10, 6))\n",
    "    plt.plot(x, pdf)\n",
    "    plt.title(f'Normal Distribution (μ={mu}, σ={sigma})')\n",
    "    plt.xlabel('Value')\n",
    "    plt.ylabel('Probability Density')\n",
    "    plt.show()"
   ]
  },
  {
   "cell_type": "markdown",
   "metadata": {},
   "source": [
    "## Week 4: Joint Probability and Independence\n",
    "\n",
    "### Key Concepts\n",
    "- \n",
    "\n",
    "### Important Methods\n",
    "- \n",
    "\n",
    "### Code Examples"
   ]
  },
  {
   "cell_type": "code",
   "execution_count": null,
   "metadata": {},
   "source": [
    "def calculate_joint_probability(prob_a: float, prob_b: float, independent: bool = True) -> float:\n",
    "    \"\"\"Calculate joint probability\"\"\"\n",
    "    if independent:\n",
    "        return prob_a * prob_b\n",
    "    else:\n",
    "        # Need conditional probability for dependent events\n",
    "        return None"
   ]
  },
  {
   "cell_type": "markdown",
   "metadata": {},
   "source": [
    "## Week 5: Conditional Probability\n",
    "\n",
    "### Key Concepts\n",
    "- \n",
    "\n",
    "### Important Formulas\n",
    "- \n",
    "\n",
    "### Code Examples"
   ]
  },
  {
   "cell_type": "code",
   "execution_count": null,
   "metadata": {},
   "source": [
    "def bayes_theorem(prior: float, likelihood: float, evidence: float) -> float:\n",
    "    \"\"\"Calculate posterior probability using Bayes' theorem\"\"\"\n",
    "    return (likelihood * prior) / evidence"
   ]
  },
  {
   "cell_type": "markdown",
   "metadata": {},
   "source": [
    "## Week 6: Random Variables\n",
    "\n",
    "### Key Concepts\n",
    "- \n",
    "\n",
    "### Important Properties\n",
    "- \n",
    "\n",
    "### Code Examples"
   ]
  },
  {
   "cell_type": "code",
   "execution_count": null,
   "metadata": {},
   "source": [
    "def calculate_expectation(values: np.ndarray, probabilities: np.ndarray) -> float:\n",
    "    \"\"\"Calculate expected value of a random variable\"\"\"\n",
    "    return np.sum(values * probabilities)\n",
    "\n",
    "def calculate_variance(values: np.ndarray, probabilities: np.ndarray) -> float:\n",
    "    \"\"\"Calculate variance of a random variable\"\"\"\n",
    "    exp = calculate_expectation(values, probabilities)\n",
    "    return calculate_expectation((values - exp)**2, probabilities)"
   ]
  },
  {
   "cell_type": "markdown",
   "metadata": {},
   "source": [
    "## Week 7: Law of Large Numbers and CLT\n",
    "\n",
    "### Key Concepts\n",
    "- \n",
    "\n",
    "### Important Theorems\n",
    "- \n",
    "\n",
    "### Code Examples"
   ]
  },
  {
   "cell_type": "code",
   "execution_count": null,
   "metadata": {},
   "source": [
    "def demonstrate_law_of_large_numbers(n_samples: List[int], true_mean: float):\n",
    "    \"\"\"Demonstrate the law of large numbers\"\"\"\n",
    "    sample_means = [np.mean(np.random.normal(true_mean, 1, n)) for n in n_samples]\n",
    "    \n",
    "    plt.figure(figsize=(10, 6))\n",
    "    plt.plot(n_samples, sample_means)\n",
    "    plt.axhline(y=true_mean, color='r', linestyle='--')\n",
    "    plt.xscale('log')\n",
    "    plt.title('Law of Large Numbers Demonstration')\n",
    "    plt.xlabel('Sample Size')\n",
    "    plt.ylabel('Sample Mean')\n",
    "    plt.show()"
   ]
  },
  {
   "cell_type": "markdown",
   "metadata": {},
   "source": [
    "## Week 8: Applications in Data Science\n",
    "\n",
    "### Key Concepts\n",
    "- \n",
    "\n",
    "### Important Applications\n",
    "- \n",
    "\n",
    "### Code Examples"
   ]
  },
  {
   "cell_type": "code",
   "execution_count": null,
   "metadata": {},
   "source": [
    "def bootstrap_confidence_interval(data: np.ndarray, statistic: callable, n_bootstrap: int = 1000, confidence: float = 0.95):\n",
    "    \"\"\"Calculate bootstrap confidence interval\"\"\"\n",
    "    bootstrap_stats = [statistic(np.random.choice(data, size=len(data), replace=True)) \n",
    "                      for _ in range(n_bootstrap)]\n",
    "    \n",
    "    lower = np.percentile(bootstrap_stats, (1 - confidence) * 100 / 2)\n",
    "    upper = np.percentile(bootstrap_stats, (1 + confidence) * 100 / 2)\n",
    "    \n",
    "    return lower, upper"
   ]
  },
  {
   "cell_type": "markdown",
   "metadata": {},
   "source": [
    "## Additional Resources and References\n",
    "\n",
    "### Useful Libraries\n",
    "- NumPy: Numerical computations\n",
    "- SciPy: Statistical functions\n",
    "- Matplotlib: Visualization\n",
    "- Seaborn: Statistical visualization\n",
    "\n",
    "### External Links\n",
    "- Course materials\n",
    "- Probability theory resources\n",
    "- Practice problems\n",
    "\n",
    "### Personal Notes\n",
    "- Key formulas\n",
    "- Important theorems\n",
    "- Common distributions"
   ]
  }
 ],
 "metadata": {
  "kernelspec": {
   "display_name": "Python 3",
   "language": "python",
   "name": "python3"
  },
  "language_info": {
   "codemirror_mode": {
    "name": "ipython",
    "version": 3
   },
   "file_extension": ".py",
   "mimetype": "text/x-python",
   "name": "python",
   "nbconvert_exporter": "python",
   "pygments_lexer": "ipython3",
   "version": "3.8.0"
  }
 },
 "nbformat": 4,
 "nbformat_minor": 4
}
